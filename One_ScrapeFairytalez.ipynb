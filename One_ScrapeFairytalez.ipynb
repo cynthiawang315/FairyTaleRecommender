{
 "cells": [
  {
   "cell_type": "code",
   "execution_count": 1,
   "metadata": {},
   "outputs": [],
   "source": [
    "from bs4 import BeautifulSoup\n",
    "import requests\n",
    "import pandas as pd\n",
    "import re\n",
    "\n",
    "url = 'https://fairytalez.com/fairy-tales/'\n",
    "session = requests.Session()\n",
    "response = session.get(url, headers={'User-Agent': 'Mozilla/5.0'})\n",
    "soup = BeautifulSoup(response.text, \"html5lib\")"
   ]
  },
  {
   "cell_type": "markdown",
   "metadata": {},
   "source": [
    "## Get all the urls of fairy tales"
   ]
  },
  {
   "cell_type": "code",
   "execution_count": 2,
   "metadata": {},
   "outputs": [],
   "source": [
    "story_index = [story.find_all('a') for story in soup.find_all('div', class_='azindex')]\n",
    "all_links = []\n",
    "for index in story_index:\n",
    "    for links in index:\n",
    "        all_links.append(links.get('href'))"
   ]
  },
  {
   "cell_type": "code",
   "execution_count": 3,
   "metadata": {},
   "outputs": [
    {
     "data": {
      "text/plain": [
       "3177"
      ]
     },
     "execution_count": 3,
     "metadata": {},
     "output_type": "execute_result"
    }
   ],
   "source": [
    "len(all_links)"
   ]
  },
  {
   "cell_type": "markdown",
   "metadata": {},
   "source": [
    "## Getting all the fairy tales"
   ]
  },
  {
   "cell_type": "code",
   "execution_count": 9,
   "metadata": {},
   "outputs": [],
   "source": [
    "df = pd.DataFrame(columns = ['title','author','region','body'])\n",
    "count = 0\n",
    "\n",
    "for url in all_links:\n",
    "    story_url = url\n",
    "    session = requests.Session()\n",
    "    response = session.get(story_url, headers={'User-Agent': 'Mozilla/5.0'})\n",
    "    soup = BeautifulSoup(response.text, \"html5lib\")\n",
    "    title = soup.find('h1', class_= 'title entry-title').text\n",
    "    author = soup.find('span', class_= 'author vcard').find('span', class_ = 'categories').text\n",
    "    region = soup.find('div', class_= 'author-name').find_all('span')[-1].text.strip()\n",
    "    content = []\n",
    "    for paras in soup.find('section', class_= 'entry').find_all('p'):\n",
    "        paras = paras.text\n",
    "        \n",
    "        # remove in-text questions\n",
    "        if re.match(r'^\\d+\\. *.+\\? *$', paras):\n",
    "            next\n",
    "        \n",
    "        # remove paragraphs of notes \n",
    "        if re.match(r'(Note:).*', paras):\n",
    "            next \n",
    "        else:\n",
    "            content.append(paras)\n",
    "    body = ' '.join(content)\n",
    "    \n",
    "    df = df.append({'title': title,\n",
    "                   'author': author,\n",
    "                   'region': region,\n",
    "                   'body': body},ignore_index=True)"
   ]
  },
  {
   "cell_type": "code",
   "execution_count": 10,
   "metadata": {},
   "outputs": [
    {
     "data": {
      "text/html": [
       "<div>\n",
       "<style scoped>\n",
       "    .dataframe tbody tr th:only-of-type {\n",
       "        vertical-align: middle;\n",
       "    }\n",
       "\n",
       "    .dataframe tbody tr th {\n",
       "        vertical-align: top;\n",
       "    }\n",
       "\n",
       "    .dataframe thead th {\n",
       "        text-align: right;\n",
       "    }\n",
       "</style>\n",
       "<table border=\"1\" class=\"dataframe\">\n",
       "  <thead>\n",
       "    <tr style=\"text-align: right;\">\n",
       "      <th></th>\n",
       "      <th>title</th>\n",
       "      <th>author</th>\n",
       "      <th>region</th>\n",
       "      <th>body</th>\n",
       "    </tr>\n",
       "  </thead>\n",
       "  <tbody>\n",
       "    <tr>\n",
       "      <th>0</th>\n",
       "      <td>A Clever Thief</td>\n",
       "      <td>Hindu Tales from the Sanskrit</td>\n",
       "      <td>Indian</td>\n",
       "      <td>Chapter I A certain man, named Hari-Sarman, wh...</td>\n",
       "    </tr>\n",
       "    <tr>\n",
       "      <th>1</th>\n",
       "      <td>A Lac of Rupees for a Piece of Advice</td>\n",
       "      <td>Joseph Jacobs</td>\n",
       "      <td>Indian</td>\n",
       "      <td>A poor blind Brahman and his wife were depende...</td>\n",
       "    </tr>\n",
       "    <tr>\n",
       "      <th>2</th>\n",
       "      <td>A Leaf from the Sky</td>\n",
       "      <td>Hans Christian Andersen</td>\n",
       "      <td>Danish Nordic Scandinavian</td>\n",
       "      <td>High up yonder, in the thin clear air, flew an...</td>\n",
       "    </tr>\n",
       "    <tr>\n",
       "      <th>3</th>\n",
       "      <td>A Legend of Confucius</td>\n",
       "      <td>The Chinese Fairy Book</td>\n",
       "      <td>Chinese</td>\n",
       "      <td>When Confucius came to the earth, the Kilin, t...</td>\n",
       "    </tr>\n",
       "    <tr>\n",
       "      <th>4</th>\n",
       "      <td>A Lesson for Kings</td>\n",
       "      <td>Joseph Jacobs</td>\n",
       "      <td>Indian</td>\n",
       "      <td>Once upon a time, when Brahma-datta was reigni...</td>\n",
       "    </tr>\n",
       "    <tr>\n",
       "      <th>5</th>\n",
       "      <td>A Royal Thief-Catcher</td>\n",
       "      <td>Hindu Tales from the Sanskrit</td>\n",
       "      <td>Indian</td>\n",
       "      <td>Chapter I In one of the smaller cities of Indi...</td>\n",
       "    </tr>\n",
       "    <tr>\n",
       "      <th>6</th>\n",
       "      <td>A Story from the Sand-Dunes</td>\n",
       "      <td>Hans Christian Andersen</td>\n",
       "      <td>Danish Nordic Scandinavian</td>\n",
       "      <td>This is a story from the sand-dunes or sand-hi...</td>\n",
       "    </tr>\n",
       "    <tr>\n",
       "      <th>7</th>\n",
       "      <td>Admetus and Alcestis</td>\n",
       "      <td>James Baldwin</td>\n",
       "      <td>Greek</td>\n",
       "      <td>Part I: The Slave IN a little town north of De...</td>\n",
       "    </tr>\n",
       "    <tr>\n",
       "      <th>8</th>\n",
       "      <td>Adventures of Bull-Turns-Round</td>\n",
       "      <td>George Bird Grinnell</td>\n",
       "      <td>Native American North American</td>\n",
       "      <td>Once the camp moved, but one lodge stayed. It ...</td>\n",
       "    </tr>\n",
       "    <tr>\n",
       "      <th>9</th>\n",
       "      <td>Aegir's Feast</td>\n",
       "      <td>Foster &amp; Cummings</td>\n",
       "      <td>Nordic Scandinavian</td>\n",
       "      <td>I. Ægir was the ruler of the ocean, and his ho...</td>\n",
       "    </tr>\n",
       "  </tbody>\n",
       "</table>\n",
       "</div>"
      ],
      "text/plain": [
       "                                   title                         author  \\\n",
       "0                         A Clever Thief  Hindu Tales from the Sanskrit   \n",
       "1  A Lac of Rupees for a Piece of Advice                  Joseph Jacobs   \n",
       "2                    A Leaf from the Sky        Hans Christian Andersen   \n",
       "3                  A Legend of Confucius         The Chinese Fairy Book   \n",
       "4                     A Lesson for Kings                  Joseph Jacobs   \n",
       "5                  A Royal Thief-Catcher  Hindu Tales from the Sanskrit   \n",
       "6            A Story from the Sand-Dunes        Hans Christian Andersen   \n",
       "7                   Admetus and Alcestis                  James Baldwin   \n",
       "8         Adventures of Bull-Turns-Round           George Bird Grinnell   \n",
       "9                          Aegir's Feast              Foster & Cummings   \n",
       "\n",
       "                           region  \\\n",
       "0                          Indian   \n",
       "1                          Indian   \n",
       "2      Danish Nordic Scandinavian   \n",
       "3                         Chinese   \n",
       "4                          Indian   \n",
       "5                          Indian   \n",
       "6      Danish Nordic Scandinavian   \n",
       "7                           Greek   \n",
       "8  Native American North American   \n",
       "9             Nordic Scandinavian   \n",
       "\n",
       "                                                body  \n",
       "0  Chapter I A certain man, named Hari-Sarman, wh...  \n",
       "1  A poor blind Brahman and his wife were depende...  \n",
       "2  High up yonder, in the thin clear air, flew an...  \n",
       "3  When Confucius came to the earth, the Kilin, t...  \n",
       "4  Once upon a time, when Brahma-datta was reigni...  \n",
       "5  Chapter I In one of the smaller cities of Indi...  \n",
       "6  This is a story from the sand-dunes or sand-hi...  \n",
       "7  Part I: The Slave IN a little town north of De...  \n",
       "8  Once the camp moved, but one lodge stayed. It ...  \n",
       "9  I. Ægir was the ruler of the ocean, and his ho...  "
      ]
     },
     "execution_count": 10,
     "metadata": {},
     "output_type": "execute_result"
    }
   ],
   "source": [
    "df.head(10)"
   ]
  },
  {
   "cell_type": "markdown",
   "metadata": {},
   "source": [
    "37 stories are too difficult to scrape because each page has different html structure. They are not included in the dataset."
   ]
  },
  {
   "cell_type": "code",
   "execution_count": 11,
   "metadata": {},
   "outputs": [],
   "source": [
    "df = df[df.body != '']"
   ]
  },
  {
   "cell_type": "markdown",
   "metadata": {},
   "source": [
    "One missing region information. Checked author and it should be German"
   ]
  },
  {
   "cell_type": "code",
   "execution_count": 12,
   "metadata": {},
   "outputs": [],
   "source": [
    "df.loc[(df.region == ''), 'region'] = 'German'"
   ]
  },
  {
   "cell_type": "code",
   "execution_count": 14,
   "metadata": {},
   "outputs": [],
   "source": [
    "df.to_csv('fairytales.csv')"
   ]
  },
  {
   "cell_type": "code",
   "execution_count": null,
   "metadata": {},
   "outputs": [],
   "source": []
  }
 ],
 "metadata": {
  "environment": {
   "name": "common-cpu.m54",
   "type": "gcloud",
   "uri": "gcr.io/deeplearning-platform-release/base-cpu:m54"
  },
  "kernelspec": {
   "display_name": "Python 3",
   "language": "python",
   "name": "python3"
  },
  "language_info": {
   "codemirror_mode": {
    "name": "ipython",
    "version": 3
   },
   "file_extension": ".py",
   "mimetype": "text/x-python",
   "name": "python",
   "nbconvert_exporter": "python",
   "pygments_lexer": "ipython3",
   "version": "3.7.8"
  },
  "toc": {
   "base_numbering": 1,
   "nav_menu": {},
   "number_sections": true,
   "sideBar": true,
   "skip_h1_title": false,
   "title_cell": "Table of Contents",
   "title_sidebar": "Contents",
   "toc_cell": false,
   "toc_position": {},
   "toc_section_display": true,
   "toc_window_display": false
  }
 },
 "nbformat": 4,
 "nbformat_minor": 4
}
