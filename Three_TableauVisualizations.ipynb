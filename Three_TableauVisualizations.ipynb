{
 "cells": [
  {
   "cell_type": "code",
   "execution_count": 28,
   "metadata": {},
   "outputs": [],
   "source": [
    "import pickle\n",
    "import pandas as pd\n",
    "from sklearn.feature_extraction.text import CountVectorizer"
   ]
  },
  {
   "cell_type": "code",
   "execution_count": 192,
   "metadata": {},
   "outputs": [],
   "source": [
    "with open('pickle_files/story_and_topic.pickle','rb') as read_file:\n",
    "    df= pickle.load(read_file)"
   ]
  },
  {
   "cell_type": "code",
   "execution_count": 178,
   "metadata": {},
   "outputs": [
    {
     "data": {
      "text/html": [
       "<div>\n",
       "<style scoped>\n",
       "    .dataframe tbody tr th:only-of-type {\n",
       "        vertical-align: middle;\n",
       "    }\n",
       "\n",
       "    .dataframe tbody tr th {\n",
       "        vertical-align: top;\n",
       "    }\n",
       "\n",
       "    .dataframe thead th {\n",
       "        text-align: right;\n",
       "    }\n",
       "</style>\n",
       "<table border=\"1\" class=\"dataframe\">\n",
       "  <thead>\n",
       "    <tr style=\"text-align: right;\">\n",
       "      <th></th>\n",
       "      <th>title</th>\n",
       "      <th>author</th>\n",
       "      <th>region</th>\n",
       "      <th>country</th>\n",
       "      <th>continent_name</th>\n",
       "      <th>body</th>\n",
       "      <th>topic_name</th>\n",
       "      <th>clean_text</th>\n",
       "    </tr>\n",
       "  </thead>\n",
       "  <tbody>\n",
       "    <tr>\n",
       "      <th>0</th>\n",
       "      <td>A Clever Thief</td>\n",
       "      <td>Hindu Tales from the Sanskrit</td>\n",
       "      <td>Indian</td>\n",
       "      <td>India</td>\n",
       "      <td>Asia</td>\n",
       "      <td>Chapter I A certain man, named Hari-Sarman, wh...</td>\n",
       "      <td>Poor vs. Rich</td>\n",
       "      <td>chapter i a certain man   name hari sarman   w...</td>\n",
       "    </tr>\n",
       "    <tr>\n",
       "      <th>1</th>\n",
       "      <td>A Lac of Rupees for a Piece of Advice</td>\n",
       "      <td>Joseph Jacobs</td>\n",
       "      <td>Indian</td>\n",
       "      <td>India</td>\n",
       "      <td>Asia</td>\n",
       "      <td>A poor blind Brahman and his wife were depende...</td>\n",
       "      <td>Poor vs. Rich</td>\n",
       "      <td>a poor blind brahman and  wife be dependent on...</td>\n",
       "    </tr>\n",
       "    <tr>\n",
       "      <th>2</th>\n",
       "      <td>A Leaf from the Sky</td>\n",
       "      <td>Hans Christian Andersen</td>\n",
       "      <td>Danish Nordic Scandinavian</td>\n",
       "      <td>Scandinavia</td>\n",
       "      <td>Europe</td>\n",
       "      <td>High up yonder, in the thin clear air, flew an...</td>\n",
       "      <td>Animal Characters</td>\n",
       "      <td>high up yonder   in the thin clear air   fly a...</td>\n",
       "    </tr>\n",
       "    <tr>\n",
       "      <th>3</th>\n",
       "      <td>A Legend of Confucius</td>\n",
       "      <td>The Chinese Fairy Book</td>\n",
       "      <td>Chinese</td>\n",
       "      <td>China</td>\n",
       "      <td>Asia</td>\n",
       "      <td>When Confucius came to the earth, the Kilin, t...</td>\n",
       "      <td>Love</td>\n",
       "      <td>when confucius come to the earth   the kilin  ...</td>\n",
       "    </tr>\n",
       "    <tr>\n",
       "      <th>4</th>\n",
       "      <td>A Lesson for Kings</td>\n",
       "      <td>Joseph Jacobs</td>\n",
       "      <td>Indian</td>\n",
       "      <td>India</td>\n",
       "      <td>Asia</td>\n",
       "      <td>Once upon a time, when Brahma-datta was reigni...</td>\n",
       "      <td>Holiday</td>\n",
       "      <td>once upon a time   when brahma datta be reign ...</td>\n",
       "    </tr>\n",
       "  </tbody>\n",
       "</table>\n",
       "</div>"
      ],
      "text/plain": [
       "                                   title                         author  \\\n",
       "0                         A Clever Thief  Hindu Tales from the Sanskrit   \n",
       "1  A Lac of Rupees for a Piece of Advice                  Joseph Jacobs   \n",
       "2                    A Leaf from the Sky        Hans Christian Andersen   \n",
       "3                  A Legend of Confucius         The Chinese Fairy Book   \n",
       "4                     A Lesson for Kings                  Joseph Jacobs   \n",
       "\n",
       "                       region      country continent_name  \\\n",
       "0                      Indian        India           Asia   \n",
       "1                      Indian        India           Asia   \n",
       "2  Danish Nordic Scandinavian  Scandinavia         Europe   \n",
       "3                     Chinese        China           Asia   \n",
       "4                      Indian        India           Asia   \n",
       "\n",
       "                                                body         topic_name  \\\n",
       "0  Chapter I A certain man, named Hari-Sarman, wh...      Poor vs. Rich   \n",
       "1  A poor blind Brahman and his wife were depende...      Poor vs. Rich   \n",
       "2  High up yonder, in the thin clear air, flew an...  Animal Characters   \n",
       "3  When Confucius came to the earth, the Kilin, t...               Love   \n",
       "4  Once upon a time, when Brahma-datta was reigni...            Holiday   \n",
       "\n",
       "                                          clean_text  \n",
       "0  chapter i a certain man   name hari sarman   w...  \n",
       "1  a poor blind brahman and  wife be dependent on...  \n",
       "2  high up yonder   in the thin clear air   fly a...  \n",
       "3  when confucius come to the earth   the kilin  ...  \n",
       "4  once upon a time   when brahma datta be reign ...  "
      ]
     },
     "execution_count": 178,
     "metadata": {},
     "output_type": "execute_result"
    }
   ],
   "source": [
    "df.head(5)"
   ]
  },
  {
   "cell_type": "markdown",
   "metadata": {},
   "source": [
    "# Create word count dataframe with topics&continents"
   ]
  },
  {
   "cell_type": "code",
   "execution_count": 179,
   "metadata": {},
   "outputs": [],
   "source": [
    "def get_doc_term(vectorizer, doc):\n",
    "    vec = vectorizer.fit(doc)\n",
    "    matrix = vec.transform(doc)\n",
    "    term = vec.get_feature_names()\n",
    "    return vec, matrix, term"
   ]
  },
  {
   "cell_type": "code",
   "execution_count": 180,
   "metadata": {},
   "outputs": [],
   "source": [
    "cv, cv_matrix, cv_terms = get_doc_term(CountVectorizer(stop_words = 'english', min_df = 3), df.clean_text)"
   ]
  },
  {
   "cell_type": "code",
   "execution_count": 181,
   "metadata": {},
   "outputs": [],
   "source": [
    "word_doc = pd.DataFrame(cv_matrix.toarray(), columns = cv.get_feature_names())"
   ]
  },
  {
   "cell_type": "code",
   "execution_count": 203,
   "metadata": {},
   "outputs": [
    {
     "data": {
      "text/html": [
       "<div>\n",
       "<style scoped>\n",
       "    .dataframe tbody tr th:only-of-type {\n",
       "        vertical-align: middle;\n",
       "    }\n",
       "\n",
       "    .dataframe tbody tr th {\n",
       "        vertical-align: top;\n",
       "    }\n",
       "\n",
       "    .dataframe thead th {\n",
       "        text-align: right;\n",
       "    }\n",
       "</style>\n",
       "<table border=\"1\" class=\"dataframe\">\n",
       "  <thead>\n",
       "    <tr style=\"text-align: right;\">\n",
       "      <th></th>\n",
       "      <th>aard</th>\n",
       "      <th>aback</th>\n",
       "      <th>abandon</th>\n",
       "      <th>abase</th>\n",
       "      <th>abash</th>\n",
       "      <th>abate</th>\n",
       "      <th>abated</th>\n",
       "      <th>abbess</th>\n",
       "      <th>abbey</th>\n",
       "      <th>abbot</th>\n",
       "      <th>...</th>\n",
       "      <th>zobeida</th>\n",
       "      <th>zodiac</th>\n",
       "      <th>zoological</th>\n",
       "      <th>ægean</th>\n",
       "      <th>ægir</th>\n",
       "      <th>æsir</th>\n",
       "      <th>æson</th>\n",
       "      <th>æsop</th>\n",
       "      <th>topic_name</th>\n",
       "      <th>continent_name</th>\n",
       "    </tr>\n",
       "  </thead>\n",
       "  <tbody>\n",
       "    <tr>\n",
       "      <th>0</th>\n",
       "      <td>0</td>\n",
       "      <td>0</td>\n",
       "      <td>0</td>\n",
       "      <td>0</td>\n",
       "      <td>0</td>\n",
       "      <td>0</td>\n",
       "      <td>0</td>\n",
       "      <td>0</td>\n",
       "      <td>0</td>\n",
       "      <td>0</td>\n",
       "      <td>...</td>\n",
       "      <td>0</td>\n",
       "      <td>0</td>\n",
       "      <td>0</td>\n",
       "      <td>0</td>\n",
       "      <td>0</td>\n",
       "      <td>0</td>\n",
       "      <td>0</td>\n",
       "      <td>0</td>\n",
       "      <td>Poor vs. Rich</td>\n",
       "      <td>Asia</td>\n",
       "    </tr>\n",
       "    <tr>\n",
       "      <th>1</th>\n",
       "      <td>0</td>\n",
       "      <td>0</td>\n",
       "      <td>0</td>\n",
       "      <td>0</td>\n",
       "      <td>0</td>\n",
       "      <td>0</td>\n",
       "      <td>0</td>\n",
       "      <td>0</td>\n",
       "      <td>0</td>\n",
       "      <td>0</td>\n",
       "      <td>...</td>\n",
       "      <td>0</td>\n",
       "      <td>0</td>\n",
       "      <td>0</td>\n",
       "      <td>0</td>\n",
       "      <td>0</td>\n",
       "      <td>0</td>\n",
       "      <td>0</td>\n",
       "      <td>0</td>\n",
       "      <td>Poor vs. Rich</td>\n",
       "      <td>Asia</td>\n",
       "    </tr>\n",
       "    <tr>\n",
       "      <th>2</th>\n",
       "      <td>0</td>\n",
       "      <td>0</td>\n",
       "      <td>0</td>\n",
       "      <td>0</td>\n",
       "      <td>0</td>\n",
       "      <td>0</td>\n",
       "      <td>0</td>\n",
       "      <td>0</td>\n",
       "      <td>0</td>\n",
       "      <td>0</td>\n",
       "      <td>...</td>\n",
       "      <td>0</td>\n",
       "      <td>0</td>\n",
       "      <td>0</td>\n",
       "      <td>0</td>\n",
       "      <td>0</td>\n",
       "      <td>0</td>\n",
       "      <td>0</td>\n",
       "      <td>0</td>\n",
       "      <td>Animal Characters</td>\n",
       "      <td>Europe</td>\n",
       "    </tr>\n",
       "    <tr>\n",
       "      <th>3</th>\n",
       "      <td>0</td>\n",
       "      <td>0</td>\n",
       "      <td>0</td>\n",
       "      <td>0</td>\n",
       "      <td>0</td>\n",
       "      <td>0</td>\n",
       "      <td>0</td>\n",
       "      <td>0</td>\n",
       "      <td>0</td>\n",
       "      <td>0</td>\n",
       "      <td>...</td>\n",
       "      <td>0</td>\n",
       "      <td>0</td>\n",
       "      <td>0</td>\n",
       "      <td>0</td>\n",
       "      <td>0</td>\n",
       "      <td>0</td>\n",
       "      <td>0</td>\n",
       "      <td>0</td>\n",
       "      <td>Love</td>\n",
       "      <td>Asia</td>\n",
       "    </tr>\n",
       "    <tr>\n",
       "      <th>4</th>\n",
       "      <td>0</td>\n",
       "      <td>0</td>\n",
       "      <td>0</td>\n",
       "      <td>0</td>\n",
       "      <td>0</td>\n",
       "      <td>0</td>\n",
       "      <td>0</td>\n",
       "      <td>0</td>\n",
       "      <td>0</td>\n",
       "      <td>0</td>\n",
       "      <td>...</td>\n",
       "      <td>0</td>\n",
       "      <td>0</td>\n",
       "      <td>0</td>\n",
       "      <td>0</td>\n",
       "      <td>0</td>\n",
       "      <td>0</td>\n",
       "      <td>0</td>\n",
       "      <td>0</td>\n",
       "      <td>Holiday</td>\n",
       "      <td>Asia</td>\n",
       "    </tr>\n",
       "  </tbody>\n",
       "</table>\n",
       "<p>5 rows × 13760 columns</p>\n",
       "</div>"
      ],
      "text/plain": [
       "   aard  aback  abandon  abase  abash  abate  abated  abbess  abbey  abbot  \\\n",
       "0     0      0        0      0      0      0       0       0      0      0   \n",
       "1     0      0        0      0      0      0       0       0      0      0   \n",
       "2     0      0        0      0      0      0       0       0      0      0   \n",
       "3     0      0        0      0      0      0       0       0      0      0   \n",
       "4     0      0        0      0      0      0       0       0      0      0   \n",
       "\n",
       "   ...  zobeida  zodiac  zoological  ægean  ægir  æsir  æson  æsop  \\\n",
       "0  ...        0       0           0      0     0     0     0     0   \n",
       "1  ...        0       0           0      0     0     0     0     0   \n",
       "2  ...        0       0           0      0     0     0     0     0   \n",
       "3  ...        0       0           0      0     0     0     0     0   \n",
       "4  ...        0       0           0      0     0     0     0     0   \n",
       "\n",
       "          topic_name  continent_name  \n",
       "0      Poor vs. Rich            Asia  \n",
       "1      Poor vs. Rich            Asia  \n",
       "2  Animal Characters          Europe  \n",
       "3               Love            Asia  \n",
       "4            Holiday            Asia  \n",
       "\n",
       "[5 rows x 13760 columns]"
      ]
     },
     "execution_count": 203,
     "metadata": {},
     "output_type": "execute_result"
    }
   ],
   "source": [
    "word_topic_continent = pd.concat([word_doc,df.topic_name, df.continent_name], axis = 1)\n",
    "word_topic_continent.head(5)"
   ]
  },
  {
   "cell_type": "markdown",
   "metadata": {},
   "source": [
    "# Word count in each topic"
   ]
  },
  {
   "cell_type": "code",
   "execution_count": 219,
   "metadata": {},
   "outputs": [
    {
     "data": {
      "text/plain": [
       "Index(['Animal Characters', 'Family', 'Farm', 'Holiday', 'Humans & Animals',\n",
       "       'Love', 'Nature', 'Poor vs. Rich'],\n",
       "      dtype='object', name='topic_name')"
      ]
     },
     "execution_count": 219,
     "metadata": {},
     "output_type": "execute_result"
    }
   ],
   "source": [
    "by_topic = word_topic_continent.groupby('topic_name').sum().transpose()\n",
    "by_topic.columns"
   ]
  },
  {
   "cell_type": "markdown",
   "metadata": {},
   "source": [
    "# Word count in each continent"
   ]
  },
  {
   "cell_type": "code",
   "execution_count": 220,
   "metadata": {},
   "outputs": [
    {
     "data": {
      "text/plain": [
       "Index(['Africa', 'Asia', 'Europe', 'North America', 'Oceania', 'South America',\n",
       "       'Unknown'],\n",
       "      dtype='object', name='continent_name')"
      ]
     },
     "execution_count": 220,
     "metadata": {},
     "output_type": "execute_result"
    }
   ],
   "source": [
    "by_continent = word_topic_continent.groupby('continent_name').sum().transpose()\n",
    "by_continent.columns"
   ]
  },
  {
   "cell_type": "markdown",
   "metadata": {},
   "source": [
    "# Save in excel for Tableau Word Clouds"
   ]
  },
  {
   "cell_type": "code",
   "execution_count": 251,
   "metadata": {},
   "outputs": [],
   "source": [
    "Africa = by_continent['Africa'].sort_values(ascending = False)[0:200]\n",
    "Asia = by_continent['Asia'].sort_values(ascending = False)[0:200]\n",
    "Europe = by_continent['Europe'].sort_values(ascending = False)[0:200]\n",
    "NorthAmerica = by_continent['North America'].sort_values(ascending = False)[0:200]\n",
    "Oceania = by_continent['Oceania'].sort_values(ascending = False)[0:200]\n",
    "SouthAmerica = by_continent['South America'].sort_values(ascending = False)[0:200]"
   ]
  },
  {
   "cell_type": "code",
   "execution_count": 252,
   "metadata": {},
   "outputs": [],
   "source": [
    "animalcharacters = by_topic['Animal Characters'].sort_values(ascending = False)[0:200]\n",
    "family = by_topic['Family'].sort_values(ascending = False)[0:200]\n",
    "holiday = by_topic['Holiday'].sort_values(ascending = False)[0:200]\n",
    "humananimals = by_topic['Humans & Animals'].sort_values(ascending = False)[0:200]\n",
    "love = by_topic['Love'].sort_values(ascending = False)[0:200]\n",
    "nature = by_topic['Nature'].sort_values(ascending = False)[0:200]\n",
    "poorvsrich = by_topic['Poor vs. Rich'].sort_values(ascending = False)[0:200]\n",
    "farm = by_topic['Farm'].sort_values(ascending = False)[0:200]"
   ]
  },
  {
   "cell_type": "markdown",
   "metadata": {},
   "source": [
    "# Calculate percentage of topics in each continent and save in excel"
   ]
  },
  {
   "cell_type": "code",
   "execution_count": 198,
   "metadata": {},
   "outputs": [],
   "source": [
    "topic_by_continent = word_topic_continent.groupby(['continent_name','topic_name']).agg({'topic_name':'count'}).groupby(level=0).apply(\n",
    "     lambda x:  100*x / x.sum()).unstack()"
   ]
  },
  {
   "cell_type": "code",
   "execution_count": 279,
   "metadata": {},
   "outputs": [],
   "source": [
    "topic_by_continent = pd.DataFrame(topic_by_continent).round(2)"
   ]
  },
  {
   "cell_type": "code",
   "execution_count": 257,
   "metadata": {},
   "outputs": [],
   "source": [
    "# topic_by_continent.to_excel('topic_by_continent.xlsx')"
   ]
  },
  {
   "cell_type": "code",
   "execution_count": 276,
   "metadata": {},
   "outputs": [],
   "source": [
    "topic_by_continent2 = word_topic_continent.groupby(['continent_name','topic_name']).agg({'topic_name':'count'}).groupby(level=0).apply(\n",
    "     lambda x:  100*x / x.sum()).round(2)"
   ]
  },
  {
   "cell_type": "code",
   "execution_count": 277,
   "metadata": {},
   "outputs": [],
   "source": [
    "# topic_by_continent2.to_excel('topic_by_continent2.xlsx')"
   ]
  },
  {
   "cell_type": "code",
   "execution_count": null,
   "metadata": {},
   "outputs": [],
   "source": []
  }
 ],
 "metadata": {
  "environment": {
   "name": "common-cpu.m54",
   "type": "gcloud",
   "uri": "gcr.io/deeplearning-platform-release/base-cpu:m54"
  },
  "kernelspec": {
   "display_name": "Python 3",
   "language": "python",
   "name": "python3"
  },
  "language_info": {
   "codemirror_mode": {
    "name": "ipython",
    "version": 3
   },
   "file_extension": ".py",
   "mimetype": "text/x-python",
   "name": "python",
   "nbconvert_exporter": "python",
   "pygments_lexer": "ipython3",
   "version": "3.7.7"
  },
  "toc": {
   "base_numbering": 1,
   "nav_menu": {},
   "number_sections": true,
   "sideBar": true,
   "skip_h1_title": false,
   "title_cell": "Table of Contents",
   "title_sidebar": "Contents",
   "toc_cell": false,
   "toc_position": {},
   "toc_section_display": true,
   "toc_window_display": false
  }
 },
 "nbformat": 4,
 "nbformat_minor": 4
}
